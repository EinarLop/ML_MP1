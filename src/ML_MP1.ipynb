{
 "cells": [
  {
   "metadata": {
    "ExecuteTime": {
     "end_time": "2025-02-08T18:09:17.074071Z",
     "start_time": "2025-02-08T18:09:16.087597Z"
    }
   },
   "cell_type": "code",
   "source": "!pip install pandas",
   "id": "8d066046be67b9e6",
   "outputs": [
    {
     "name": "stdout",
     "output_type": "stream",
     "text": [
      "Requirement already satisfied: pandas in /Users/einar/Documents/EDISS/Period 3/ML/ML_MP1/.venv2/lib/python3.9/site-packages (2.2.3)\r\n",
      "Requirement already satisfied: numpy>=1.22.4 in /Users/einar/Documents/EDISS/Period 3/ML/ML_MP1/.venv2/lib/python3.9/site-packages (from pandas) (2.0.2)\r\n",
      "Requirement already satisfied: python-dateutil>=2.8.2 in /Users/einar/Documents/EDISS/Period 3/ML/ML_MP1/.venv2/lib/python3.9/site-packages (from pandas) (2.9.0.post0)\r\n",
      "Requirement already satisfied: pytz>=2020.1 in /Users/einar/Documents/EDISS/Period 3/ML/ML_MP1/.venv2/lib/python3.9/site-packages (from pandas) (2025.1)\r\n",
      "Requirement already satisfied: tzdata>=2022.7 in /Users/einar/Documents/EDISS/Period 3/ML/ML_MP1/.venv2/lib/python3.9/site-packages (from pandas) (2025.1)\r\n",
      "Requirement already satisfied: six>=1.5 in /Users/einar/Documents/EDISS/Period 3/ML/ML_MP1/.venv2/lib/python3.9/site-packages (from python-dateutil>=2.8.2->pandas) (1.17.0)\r\n",
      "\r\n",
      "\u001B[1m[\u001B[0m\u001B[34;49mnotice\u001B[0m\u001B[1;39;49m]\u001B[0m\u001B[39;49m A new release of pip is available: \u001B[0m\u001B[31;49m23.2.1\u001B[0m\u001B[39;49m -> \u001B[0m\u001B[32;49m25.0\u001B[0m\r\n",
      "\u001B[1m[\u001B[0m\u001B[34;49mnotice\u001B[0m\u001B[1;39;49m]\u001B[0m\u001B[39;49m To update, run: \u001B[0m\u001B[32;49mpip install --upgrade pip\u001B[0m\r\n"
     ]
    }
   ],
   "execution_count": 71
  },
  {
   "metadata": {
    "ExecuteTime": {
     "end_time": "2025-02-08T18:09:17.081986Z",
     "start_time": "2025-02-08T18:09:17.079268Z"
    }
   },
   "cell_type": "code",
   "source": [
    "import pandas as pd\n",
    "from functools import reduce\n",
    "import os"
   ],
   "id": "28666e12ab22b0f0",
   "outputs": [],
   "execution_count": 72
  },
  {
   "metadata": {
    "collapsed": true,
    "ExecuteTime": {
     "end_time": "2025-02-08T18:10:50.841190Z",
     "start_time": "2025-02-08T18:10:33.908410Z"
    }
   },
   "cell_type": "code",
   "source": [
    "if os.path.exists(\"../rawdata/ship_df.csv\"):\n",
    "    ship_df = pd.read_csv(\"../rawdata/ship_df.csv\")\n",
    "else:\n",
    "    file_columns = {\n",
    "        \"fuelDensity.csv\": [\"timestamp\", \"fuel_density\"],\n",
    "        \"fuelTemp.csv\": [\"timestamp\", \"fuel_temp\"],\n",
    "        \"fuelVolumeFlowRate.csv\": [\"timestamp\", \"fuel_volume_flow_rate\"],\n",
    "        \"inclinometer-raw.csv\": [\"timestamp\", \"inclinometer_raw\"],\n",
    "        \"latitude.csv\": [\"timestamp\", \"latitude\"],\n",
    "        \"level1median.csv\": [\"timestamp\", \"level1_median\"],\n",
    "        \"level2median.csv\": [\"timestamp\", \"level2_median\"],\n",
    "        \"longitude.csv\": [\"timestamp\", \"longitude\"],\n",
    "        \"longitudinalWaterSpeed.csv\": [\"timestamp\", \"longitudinal_water_speed\"],\n",
    "        \"portPitch.csv\": [\"timestamp\", \"port_pitch\"],\n",
    "        \"portRudder.csv\": [\"timestamp\", \"port_rudder\"],\n",
    "        \"speedKmh.csv\": [\"timestamp\", \"speed_kmh\"],\n",
    "        \"speedKnots.csv\": [\"timestamp\", \"speed_knots\"],\n",
    "        \"starboardPitch.csv\": [\"timestamp\", \"starboard_pitch\"],\n",
    "        \"starboardRudder.csv\": [\"timestamp\", \"starboard_rudder\"],\n",
    "        \"trackDegreeMagnetic.csv\": [\"timestamp\", \"track_degree_magnetic\"],\n",
    "        \"trackDegreeTrue.csv\": [\"timestamp\", \"track_degree_true\"],\n",
    "        \"trueHeading.csv\": [\"timestamp\", \"true_heading\"],\n",
    "        \"windAngle.csv\": [\"timestamp\", \"wind_angle\"],\n",
    "        \"windSpeed.csv\": [\"timestamp\", \"wind_speed\"],\n",
    "    }\n",
    "\n",
    "    dfs = [\n",
    "        pd.read_csv(f\"../rawdata/{file}\", header=None, names=columns)\n",
    "        for file, columns in file_columns.items()\n",
    "    ]\n",
    "\n",
    "    ship_df = reduce(lambda left, right: pd.merge(left, right, on=\"timestamp\", how=\"outer\"), dfs)\n",
    "    ship_df.to_csv(\"../rawdata/ship_df.csv\", index=False)\n"
   ],
   "id": "initial_id",
   "outputs": [],
   "execution_count": 85
  },
  {
   "metadata": {
    "ExecuteTime": {
     "end_time": "2025-02-08T18:10:50.861202Z",
     "start_time": "2025-02-08T18:10:50.858255Z"
    }
   },
   "cell_type": "code",
   "source": "",
   "id": "866a888f93dd29d6",
   "outputs": [],
   "execution_count": null
  },
  {
   "metadata": {
    "ExecuteTime": {
     "end_time": "2025-02-08T18:10:50.896377Z",
     "start_time": "2025-02-08T18:10:50.893127Z"
    }
   },
   "cell_type": "code",
   "source": [
    "if \"converted_timestamp\" not in ship_df.columns:\n",
    "    def convert_dotnet_timestamp(ticks):\n",
    "        unix_timestamp = (ticks // 10_000_000) - 62135596800\n",
    "        return pd.to_datetime(unix_timestamp, unit='s')\n",
    "\n",
    "    ship_df['converted_timestamp'] = ship_df['timestamp'].apply(convert_dotnet_timestamp)\n",
    "    ship_df.to_csv(\"../rawdata/ship_df.csv\", index=False)"
   ],
   "id": "a081d85ee62dd52d",
   "outputs": [],
   "execution_count": 86
  },
  {
   "metadata": {
    "ExecuteTime": {
     "end_time": "2025-02-08T18:10:52.872351Z",
     "start_time": "2025-02-08T18:10:50.919912Z"
    }
   },
   "cell_type": "code",
   "source": "ship_df.drop(\"timestamp\", axis=1, inplace=True)",
   "id": "3ba758f9650cfdde",
   "outputs": [],
   "execution_count": 87
  },
  {
   "metadata": {
    "ExecuteTime": {
     "end_time": "2025-02-08T18:10:54.033600Z",
     "start_time": "2025-02-08T18:10:52.893208Z"
    }
   },
   "cell_type": "code",
   "source": [
    "# Matches dataset description in assignment\n",
    "ship_df['converted_timestamp'].min(), ship_df['converted_timestamp'].max()"
   ],
   "id": "7eb6723c5f2f685e",
   "outputs": [
    {
     "data": {
      "text/plain": [
       "('2010-02-15 05:45:12', '2010-04-12 22:25:16')"
      ]
     },
     "execution_count": 88,
     "metadata": {},
     "output_type": "execute_result"
    }
   ],
   "execution_count": 88
  },
  {
   "metadata": {
    "ExecuteTime": {
     "end_time": "2025-02-08T18:10:55.895062Z",
     "start_time": "2025-02-08T18:10:54.044190Z"
    }
   },
   "cell_type": "code",
   "source": "(ship_df.isna().sum() / len(ship_df)).sort_values(ascending=False)",
   "id": "1d06fefb7d39b5e6",
   "outputs": [
    {
     "data": {
      "text/plain": [
       "longitudinal_water_speed    0.971211\n",
       "wind_speed                  0.954648\n",
       "wind_angle                  0.954648\n",
       "true_heading                0.924416\n",
       "fuel_density                0.914556\n",
       "fuel_temp                   0.914556\n",
       "fuel_volume_flow_rate       0.914556\n",
       "starboard_rudder            0.909371\n",
       "starboard_pitch             0.909371\n",
       "port_rudder                 0.909371\n",
       "port_pitch                  0.909371\n",
       "track_degree_magnetic       0.907250\n",
       "track_degree_true           0.907249\n",
       "speed_kmh                   0.907227\n",
       "speed_knots                 0.907227\n",
       "longitude                   0.859405\n",
       "latitude                    0.859404\n",
       "inclinometer_raw            0.813096\n",
       "level2_median               0.798335\n",
       "level1_median               0.791038\n",
       "converted_timestamp         0.000000\n",
       "dtype: float64"
      ]
     },
     "execution_count": 89,
     "metadata": {},
     "output_type": "execute_result"
    }
   ],
   "execution_count": 89
  },
  {
   "metadata": {
    "ExecuteTime": {
     "end_time": "2025-02-08T18:11:05.254155Z",
     "start_time": "2025-02-08T18:10:55.933103Z"
    }
   },
   "cell_type": "code",
   "source": "ship_df.sort_values(\"converted_timestamp\", inplace=True)",
   "id": "fd655e8a60679ffa",
   "outputs": [],
   "execution_count": 90
  },
  {
   "metadata": {
    "ExecuteTime": {
     "end_time": "2025-02-08T18:11:05.290102Z",
     "start_time": "2025-02-08T18:11:05.285403Z"
    }
   },
   "cell_type": "code",
   "source": "ship_df.dtypes",
   "id": "60d59c303d563456",
   "outputs": [
    {
     "data": {
      "text/plain": [
       "fuel_density                float64\n",
       "fuel_temp                   float64\n",
       "fuel_volume_flow_rate       float64\n",
       "inclinometer_raw            float64\n",
       "latitude                     object\n",
       "level1_median               float64\n",
       "level2_median               float64\n",
       "longitude                    object\n",
       "longitudinal_water_speed    float64\n",
       "port_pitch                  float64\n",
       "port_rudder                 float64\n",
       "speed_kmh                   float64\n",
       "speed_knots                 float64\n",
       "starboard_pitch             float64\n",
       "starboard_rudder            float64\n",
       "track_degree_magnetic       float64\n",
       "track_degree_true           float64\n",
       "true_heading                float64\n",
       "wind_angle                  float64\n",
       "wind_speed                  float64\n",
       "converted_timestamp          object\n",
       "dtype: object"
      ]
     },
     "execution_count": 91,
     "metadata": {},
     "output_type": "execute_result"
    }
   ],
   "execution_count": 91
  },
  {
   "metadata": {
    "ExecuteTime": {
     "end_time": "2025-02-08T18:11:11.612794Z",
     "start_time": "2025-02-08T18:11:05.330507Z"
    }
   },
   "cell_type": "code",
   "source": [
    "def coords_to_decimal(coord):\n",
    "    if not isinstance(coord, str):  # Handle NaNs or unexpected values\n",
    "        return None\n",
    "\n",
    "    direction = coord[-1]  # Last character (N, S, E, W)\n",
    "    value = coord[:-1]  # Remove direction (00649.1143)\n",
    "\n",
    "    # Extract degrees and minutes\n",
    "    degrees = int(value[:-5])  # Everything before the last 5 digits\n",
    "    minutes = float(value[-5:])  # Last 5 digits as minutes\n",
    "\n",
    "    # Convert to decimal degrees\n",
    "    decimal = degrees + (minutes / 60)\n",
    "\n",
    "    # Apply negative sign for South and West\n",
    "    if direction in ['S', 'W']:\n",
    "        decimal *= -1\n",
    "\n",
    "    return decimal\n",
    "\n",
    "# Apply conversion\n",
    "ship_df['latitude'] = ship_df['latitude'].apply(coords_to_decimal)\n",
    "ship_df['longitude'] = ship_df['longitude'].apply(coords_to_decimal)\n"
   ],
   "id": "f4d0b63d843918a6",
   "outputs": [],
   "execution_count": 92
  },
  {
   "metadata": {
    "ExecuteTime": {
     "end_time": "2025-02-08T18:11:11.640256Z",
     "start_time": "2025-02-08T18:11:11.636448Z"
    }
   },
   "cell_type": "code",
   "source": "ship_df.dtypes",
   "id": "968611a0831249dc",
   "outputs": [
    {
     "data": {
      "text/plain": [
       "fuel_density                float64\n",
       "fuel_temp                   float64\n",
       "fuel_volume_flow_rate       float64\n",
       "inclinometer_raw            float64\n",
       "latitude                    float64\n",
       "level1_median               float64\n",
       "level2_median               float64\n",
       "longitude                   float64\n",
       "longitudinal_water_speed    float64\n",
       "port_pitch                  float64\n",
       "port_rudder                 float64\n",
       "speed_kmh                   float64\n",
       "speed_knots                 float64\n",
       "starboard_pitch             float64\n",
       "starboard_rudder            float64\n",
       "track_degree_magnetic       float64\n",
       "track_degree_true           float64\n",
       "true_heading                float64\n",
       "wind_angle                  float64\n",
       "wind_speed                  float64\n",
       "converted_timestamp          object\n",
       "dtype: object"
      ]
     },
     "execution_count": 93,
     "metadata": {},
     "output_type": "execute_result"
    }
   ],
   "execution_count": 93
  },
  {
   "metadata": {
    "ExecuteTime": {
     "end_time": "2025-02-08T18:11:15.735447Z",
     "start_time": "2025-02-08T18:11:11.669141Z"
    }
   },
   "cell_type": "code",
   "source": [
    "print(\"Before grouping: \", ship_df.shape)\n",
    "\n",
    "# Ensure 'converted_timestamp' is in datetime format\n",
    "ship_df['converted_timestamp'] = pd.to_datetime(ship_df['converted_timestamp'], unit='ns')\n",
    "\n",
    "# Create a new column for grouping\n",
    "ship_df['grouped_timestamp'] = ship_df['converted_timestamp'].dt.floor('min')\n",
    "\n",
    "# Group by the new column, then drop it if not needed\n",
    "ship_df = ship_df.groupby('grouped_timestamp').mean().reset_index()\n",
    "\n",
    "ship_df.drop('grouped_timestamp', axis=1, inplace=True)\n",
    "\n",
    "print(\"After grouping: \", ship_df.shape)\n"
   ],
   "id": "33cae8ab81f1c310",
   "outputs": [
    {
     "name": "stdout",
     "output_type": "stream",
     "text": [
      "Before grouping:  (19045464, 21)\n",
      "After grouping:  (6031, 21)\n"
     ]
    }
   ],
   "execution_count": 94
  },
  {
   "metadata": {
    "ExecuteTime": {
     "end_time": "2025-02-08T18:11:16.004577Z",
     "start_time": "2025-02-08T18:11:15.990751Z"
    }
   },
   "cell_type": "code",
   "source": "ship_df.head(1000)",
   "id": "b5e91192729ed457",
   "outputs": [
    {
     "data": {
      "text/plain": [
       "     fuel_density  fuel_temp  fuel_volume_flow_rate  inclinometer_raw  \\\n",
       "0             NaN        NaN                    NaN        357.597872   \n",
       "1             NaN        NaN                    NaN        357.281812   \n",
       "2             NaN        NaN                    NaN        357.235615   \n",
       "3             NaN        NaN                    NaN        357.187994   \n",
       "4             NaN        NaN                    NaN        357.222411   \n",
       "..            ...        ...                    ...               ...   \n",
       "995      0.927119  96.027643               0.680634        357.258188   \n",
       "996      0.927074  96.090529               0.687897        357.288786   \n",
       "997      0.926891  96.199618               0.680009        357.261828   \n",
       "998      0.926805  96.266460               0.680979        357.290000   \n",
       "999      0.926560  96.470697               0.680582        357.266359   \n",
       "\n",
       "        latitude  level1_median  level2_median   longitude  \\\n",
       "0    6132.602083      16.653623      14.176539 -648.555176   \n",
       "1    6132.007593      16.576844      14.467348 -646.405858   \n",
       "2    6131.681677      16.841274      14.319438 -643.653420   \n",
       "3    6132.771044      17.046858      14.363045 -642.053399   \n",
       "4    6134.411845      17.064005      14.379844 -640.929260   \n",
       "..           ...            ...            ...         ...   \n",
       "995  6140.371473      16.436549      15.266279 -648.371686   \n",
       "996  6141.769021      16.358588      15.269014 -649.669586   \n",
       "997  6143.413518      16.395881      15.201623 -651.189120   \n",
       "998  6144.903463      16.369800      15.158440 -652.525458   \n",
       "999  6146.519347      16.394294      15.302910 -653.649181   \n",
       "\n",
       "     longitudinal_water_speed  port_pitch  ...  speed_kmh  speed_knots  \\\n",
       "0                    7.952747    5.117690  ...  15.433898     8.330169   \n",
       "1                   17.597895    7.568833  ...  33.040523    17.839869   \n",
       "2                   18.536842    7.805097  ...  35.266124    19.043974   \n",
       "3                   18.544211    7.790150  ...  36.607869    19.759344   \n",
       "4                   18.734375    7.804730  ...  35.953247    19.418831   \n",
       "..                        ...         ...  ...        ...          ...   \n",
       "995                 19.894737    8.611380  ...  37.489577    20.242020   \n",
       "996                 19.994737    8.612538  ...  37.156066    20.075410   \n",
       "997                 20.222917    8.685953  ...  37.669508    20.335082   \n",
       "998                 20.096842    8.635000  ...  37.548701    20.274351   \n",
       "999                 20.005263    8.647197  ...  37.795410    20.397705   \n",
       "\n",
       "     starboard_pitch  starboard_rudder  track_degree_magnetic  \\\n",
       "0           5.249923         -1.323209             167.945578   \n",
       "1           7.596906          0.110833             131.302288   \n",
       "2           7.753260          0.188460              79.836156   \n",
       "3           7.833700         -0.064570              24.653770   \n",
       "4           7.846677         -0.065110              25.670779   \n",
       "..               ...               ...                    ...   \n",
       "995         8.544523          0.055663             343.189577   \n",
       "996         8.537957          0.067816             343.172787   \n",
       "997         8.608000          0.046513             343.872787   \n",
       "998         8.562907          0.006950             345.313961   \n",
       "999         8.570953          0.038547             350.402295   \n",
       "\n",
       "     track_degree_true  true_heading  wind_angle  wind_speed  \\\n",
       "0           175.639456    160.238075  230.391608    4.060140   \n",
       "1           124.302288    129.574600   26.000000    8.702667   \n",
       "2            72.836156     70.224000  148.113333    9.710000   \n",
       "3            17.653770      9.188000  246.740000    8.806667   \n",
       "4            18.670779      9.824600   52.206667    8.268667   \n",
       "..                 ...           ...         ...         ...   \n",
       "995         336.189577    352.685320   27.420000   29.014000   \n",
       "996         336.172787    351.698800   26.886667   28.938667   \n",
       "997         336.872787    352.278600   29.220000   24.104667   \n",
       "998         338.313961    354.479080   17.600000   29.077333   \n",
       "999         343.402295    358.451240   20.806667   29.037333   \n",
       "\n",
       "              converted_timestamp  \n",
       "0   2010-02-15 05:47:35.727365376  \n",
       "1   2010-02-15 05:52:29.738204416  \n",
       "2   2010-02-15 05:57:29.071451904  \n",
       "3   2010-02-15 06:02:29.427772160  \n",
       "4   2010-02-15 06:07:29.403103232  \n",
       "..                            ...  \n",
       "995 2010-02-24 07:32:29.230745856  \n",
       "996 2010-02-24 07:37:29.109057280  \n",
       "997 2010-02-24 07:42:29.647451392  \n",
       "998 2010-02-24 07:47:29.652701952  \n",
       "999 2010-02-24 07:52:29.644539648  \n",
       "\n",
       "[1000 rows x 21 columns]"
      ],
      "text/html": [
       "<div>\n",
       "<style scoped>\n",
       "    .dataframe tbody tr th:only-of-type {\n",
       "        vertical-align: middle;\n",
       "    }\n",
       "\n",
       "    .dataframe tbody tr th {\n",
       "        vertical-align: top;\n",
       "    }\n",
       "\n",
       "    .dataframe thead th {\n",
       "        text-align: right;\n",
       "    }\n",
       "</style>\n",
       "<table border=\"1\" class=\"dataframe\">\n",
       "  <thead>\n",
       "    <tr style=\"text-align: right;\">\n",
       "      <th></th>\n",
       "      <th>fuel_density</th>\n",
       "      <th>fuel_temp</th>\n",
       "      <th>fuel_volume_flow_rate</th>\n",
       "      <th>inclinometer_raw</th>\n",
       "      <th>latitude</th>\n",
       "      <th>level1_median</th>\n",
       "      <th>level2_median</th>\n",
       "      <th>longitude</th>\n",
       "      <th>longitudinal_water_speed</th>\n",
       "      <th>port_pitch</th>\n",
       "      <th>...</th>\n",
       "      <th>speed_kmh</th>\n",
       "      <th>speed_knots</th>\n",
       "      <th>starboard_pitch</th>\n",
       "      <th>starboard_rudder</th>\n",
       "      <th>track_degree_magnetic</th>\n",
       "      <th>track_degree_true</th>\n",
       "      <th>true_heading</th>\n",
       "      <th>wind_angle</th>\n",
       "      <th>wind_speed</th>\n",
       "      <th>converted_timestamp</th>\n",
       "    </tr>\n",
       "  </thead>\n",
       "  <tbody>\n",
       "    <tr>\n",
       "      <th>0</th>\n",
       "      <td>NaN</td>\n",
       "      <td>NaN</td>\n",
       "      <td>NaN</td>\n",
       "      <td>357.597872</td>\n",
       "      <td>6132.602083</td>\n",
       "      <td>16.653623</td>\n",
       "      <td>14.176539</td>\n",
       "      <td>-648.555176</td>\n",
       "      <td>7.952747</td>\n",
       "      <td>5.117690</td>\n",
       "      <td>...</td>\n",
       "      <td>15.433898</td>\n",
       "      <td>8.330169</td>\n",
       "      <td>5.249923</td>\n",
       "      <td>-1.323209</td>\n",
       "      <td>167.945578</td>\n",
       "      <td>175.639456</td>\n",
       "      <td>160.238075</td>\n",
       "      <td>230.391608</td>\n",
       "      <td>4.060140</td>\n",
       "      <td>2010-02-15 05:47:35.727365376</td>\n",
       "    </tr>\n",
       "    <tr>\n",
       "      <th>1</th>\n",
       "      <td>NaN</td>\n",
       "      <td>NaN</td>\n",
       "      <td>NaN</td>\n",
       "      <td>357.281812</td>\n",
       "      <td>6132.007593</td>\n",
       "      <td>16.576844</td>\n",
       "      <td>14.467348</td>\n",
       "      <td>-646.405858</td>\n",
       "      <td>17.597895</td>\n",
       "      <td>7.568833</td>\n",
       "      <td>...</td>\n",
       "      <td>33.040523</td>\n",
       "      <td>17.839869</td>\n",
       "      <td>7.596906</td>\n",
       "      <td>0.110833</td>\n",
       "      <td>131.302288</td>\n",
       "      <td>124.302288</td>\n",
       "      <td>129.574600</td>\n",
       "      <td>26.000000</td>\n",
       "      <td>8.702667</td>\n",
       "      <td>2010-02-15 05:52:29.738204416</td>\n",
       "    </tr>\n",
       "    <tr>\n",
       "      <th>2</th>\n",
       "      <td>NaN</td>\n",
       "      <td>NaN</td>\n",
       "      <td>NaN</td>\n",
       "      <td>357.235615</td>\n",
       "      <td>6131.681677</td>\n",
       "      <td>16.841274</td>\n",
       "      <td>14.319438</td>\n",
       "      <td>-643.653420</td>\n",
       "      <td>18.536842</td>\n",
       "      <td>7.805097</td>\n",
       "      <td>...</td>\n",
       "      <td>35.266124</td>\n",
       "      <td>19.043974</td>\n",
       "      <td>7.753260</td>\n",
       "      <td>0.188460</td>\n",
       "      <td>79.836156</td>\n",
       "      <td>72.836156</td>\n",
       "      <td>70.224000</td>\n",
       "      <td>148.113333</td>\n",
       "      <td>9.710000</td>\n",
       "      <td>2010-02-15 05:57:29.071451904</td>\n",
       "    </tr>\n",
       "    <tr>\n",
       "      <th>3</th>\n",
       "      <td>NaN</td>\n",
       "      <td>NaN</td>\n",
       "      <td>NaN</td>\n",
       "      <td>357.187994</td>\n",
       "      <td>6132.771044</td>\n",
       "      <td>17.046858</td>\n",
       "      <td>14.363045</td>\n",
       "      <td>-642.053399</td>\n",
       "      <td>18.544211</td>\n",
       "      <td>7.790150</td>\n",
       "      <td>...</td>\n",
       "      <td>36.607869</td>\n",
       "      <td>19.759344</td>\n",
       "      <td>7.833700</td>\n",
       "      <td>-0.064570</td>\n",
       "      <td>24.653770</td>\n",
       "      <td>17.653770</td>\n",
       "      <td>9.188000</td>\n",
       "      <td>246.740000</td>\n",
       "      <td>8.806667</td>\n",
       "      <td>2010-02-15 06:02:29.427772160</td>\n",
       "    </tr>\n",
       "    <tr>\n",
       "      <th>4</th>\n",
       "      <td>NaN</td>\n",
       "      <td>NaN</td>\n",
       "      <td>NaN</td>\n",
       "      <td>357.222411</td>\n",
       "      <td>6134.411845</td>\n",
       "      <td>17.064005</td>\n",
       "      <td>14.379844</td>\n",
       "      <td>-640.929260</td>\n",
       "      <td>18.734375</td>\n",
       "      <td>7.804730</td>\n",
       "      <td>...</td>\n",
       "      <td>35.953247</td>\n",
       "      <td>19.418831</td>\n",
       "      <td>7.846677</td>\n",
       "      <td>-0.065110</td>\n",
       "      <td>25.670779</td>\n",
       "      <td>18.670779</td>\n",
       "      <td>9.824600</td>\n",
       "      <td>52.206667</td>\n",
       "      <td>8.268667</td>\n",
       "      <td>2010-02-15 06:07:29.403103232</td>\n",
       "    </tr>\n",
       "    <tr>\n",
       "      <th>...</th>\n",
       "      <td>...</td>\n",
       "      <td>...</td>\n",
       "      <td>...</td>\n",
       "      <td>...</td>\n",
       "      <td>...</td>\n",
       "      <td>...</td>\n",
       "      <td>...</td>\n",
       "      <td>...</td>\n",
       "      <td>...</td>\n",
       "      <td>...</td>\n",
       "      <td>...</td>\n",
       "      <td>...</td>\n",
       "      <td>...</td>\n",
       "      <td>...</td>\n",
       "      <td>...</td>\n",
       "      <td>...</td>\n",
       "      <td>...</td>\n",
       "      <td>...</td>\n",
       "      <td>...</td>\n",
       "      <td>...</td>\n",
       "      <td>...</td>\n",
       "    </tr>\n",
       "    <tr>\n",
       "      <th>995</th>\n",
       "      <td>0.927119</td>\n",
       "      <td>96.027643</td>\n",
       "      <td>0.680634</td>\n",
       "      <td>357.258188</td>\n",
       "      <td>6140.371473</td>\n",
       "      <td>16.436549</td>\n",
       "      <td>15.266279</td>\n",
       "      <td>-648.371686</td>\n",
       "      <td>19.894737</td>\n",
       "      <td>8.611380</td>\n",
       "      <td>...</td>\n",
       "      <td>37.489577</td>\n",
       "      <td>20.242020</td>\n",
       "      <td>8.544523</td>\n",
       "      <td>0.055663</td>\n",
       "      <td>343.189577</td>\n",
       "      <td>336.189577</td>\n",
       "      <td>352.685320</td>\n",
       "      <td>27.420000</td>\n",
       "      <td>29.014000</td>\n",
       "      <td>2010-02-24 07:32:29.230745856</td>\n",
       "    </tr>\n",
       "    <tr>\n",
       "      <th>996</th>\n",
       "      <td>0.927074</td>\n",
       "      <td>96.090529</td>\n",
       "      <td>0.687897</td>\n",
       "      <td>357.288786</td>\n",
       "      <td>6141.769021</td>\n",
       "      <td>16.358588</td>\n",
       "      <td>15.269014</td>\n",
       "      <td>-649.669586</td>\n",
       "      <td>19.994737</td>\n",
       "      <td>8.612538</td>\n",
       "      <td>...</td>\n",
       "      <td>37.156066</td>\n",
       "      <td>20.075410</td>\n",
       "      <td>8.537957</td>\n",
       "      <td>0.067816</td>\n",
       "      <td>343.172787</td>\n",
       "      <td>336.172787</td>\n",
       "      <td>351.698800</td>\n",
       "      <td>26.886667</td>\n",
       "      <td>28.938667</td>\n",
       "      <td>2010-02-24 07:37:29.109057280</td>\n",
       "    </tr>\n",
       "    <tr>\n",
       "      <th>997</th>\n",
       "      <td>0.926891</td>\n",
       "      <td>96.199618</td>\n",
       "      <td>0.680009</td>\n",
       "      <td>357.261828</td>\n",
       "      <td>6143.413518</td>\n",
       "      <td>16.395881</td>\n",
       "      <td>15.201623</td>\n",
       "      <td>-651.189120</td>\n",
       "      <td>20.222917</td>\n",
       "      <td>8.685953</td>\n",
       "      <td>...</td>\n",
       "      <td>37.669508</td>\n",
       "      <td>20.335082</td>\n",
       "      <td>8.608000</td>\n",
       "      <td>0.046513</td>\n",
       "      <td>343.872787</td>\n",
       "      <td>336.872787</td>\n",
       "      <td>352.278600</td>\n",
       "      <td>29.220000</td>\n",
       "      <td>24.104667</td>\n",
       "      <td>2010-02-24 07:42:29.647451392</td>\n",
       "    </tr>\n",
       "    <tr>\n",
       "      <th>998</th>\n",
       "      <td>0.926805</td>\n",
       "      <td>96.266460</td>\n",
       "      <td>0.680979</td>\n",
       "      <td>357.290000</td>\n",
       "      <td>6144.903463</td>\n",
       "      <td>16.369800</td>\n",
       "      <td>15.158440</td>\n",
       "      <td>-652.525458</td>\n",
       "      <td>20.096842</td>\n",
       "      <td>8.635000</td>\n",
       "      <td>...</td>\n",
       "      <td>37.548701</td>\n",
       "      <td>20.274351</td>\n",
       "      <td>8.562907</td>\n",
       "      <td>0.006950</td>\n",
       "      <td>345.313961</td>\n",
       "      <td>338.313961</td>\n",
       "      <td>354.479080</td>\n",
       "      <td>17.600000</td>\n",
       "      <td>29.077333</td>\n",
       "      <td>2010-02-24 07:47:29.652701952</td>\n",
       "    </tr>\n",
       "    <tr>\n",
       "      <th>999</th>\n",
       "      <td>0.926560</td>\n",
       "      <td>96.470697</td>\n",
       "      <td>0.680582</td>\n",
       "      <td>357.266359</td>\n",
       "      <td>6146.519347</td>\n",
       "      <td>16.394294</td>\n",
       "      <td>15.302910</td>\n",
       "      <td>-653.649181</td>\n",
       "      <td>20.005263</td>\n",
       "      <td>8.647197</td>\n",
       "      <td>...</td>\n",
       "      <td>37.795410</td>\n",
       "      <td>20.397705</td>\n",
       "      <td>8.570953</td>\n",
       "      <td>0.038547</td>\n",
       "      <td>350.402295</td>\n",
       "      <td>343.402295</td>\n",
       "      <td>358.451240</td>\n",
       "      <td>20.806667</td>\n",
       "      <td>29.037333</td>\n",
       "      <td>2010-02-24 07:52:29.644539648</td>\n",
       "    </tr>\n",
       "  </tbody>\n",
       "</table>\n",
       "<p>1000 rows × 21 columns</p>\n",
       "</div>"
      ]
     },
     "execution_count": 95,
     "metadata": {},
     "output_type": "execute_result"
    }
   ],
   "execution_count": 95
  },
  {
   "metadata": {
    "ExecuteTime": {
     "end_time": "2025-02-08T18:11:16.046394Z",
     "start_time": "2025-02-08T18:11:16.041037Z"
    }
   },
   "cell_type": "code",
   "source": "(ship_df.isna().sum() / len(ship_df)).sort_values(ascending=False)",
   "id": "5729484dbd7e5f56",
   "outputs": [
    {
     "data": {
      "text/plain": [
       "fuel_density                0.036810\n",
       "fuel_volume_flow_rate       0.036810\n",
       "fuel_temp                   0.036810\n",
       "level2_median               0.002487\n",
       "inclinometer_raw            0.000829\n",
       "port_pitch                  0.000663\n",
       "starboard_rudder            0.000663\n",
       "starboard_pitch             0.000663\n",
       "port_rudder                 0.000663\n",
       "longitudinal_water_speed    0.000332\n",
       "level1_median               0.000332\n",
       "wind_angle                  0.000332\n",
       "wind_speed                  0.000332\n",
       "speed_kmh                   0.000166\n",
       "speed_knots                 0.000166\n",
       "track_degree_magnetic       0.000166\n",
       "track_degree_true           0.000166\n",
       "longitude                   0.000000\n",
       "latitude                    0.000000\n",
       "true_heading                0.000000\n",
       "converted_timestamp         0.000000\n",
       "dtype: float64"
      ]
     },
     "execution_count": 96,
     "metadata": {},
     "output_type": "execute_result"
    }
   ],
   "execution_count": 96
  },
  {
   "metadata": {
    "ExecuteTime": {
     "end_time": "2025-02-08T18:11:16.112090Z",
     "start_time": "2025-02-08T18:11:16.109882Z"
    }
   },
   "cell_type": "code",
   "source": "",
   "id": "2463ba3658a0aa89",
   "outputs": [],
   "execution_count": null
  }
 ],
 "metadata": {
  "kernelspec": {
   "display_name": "Python 3",
   "language": "python",
   "name": "python3"
  },
  "language_info": {
   "codemirror_mode": {
    "name": "ipython",
    "version": 2
   },
   "file_extension": ".py",
   "mimetype": "text/x-python",
   "name": "python",
   "nbconvert_exporter": "python",
   "pygments_lexer": "ipython2",
   "version": "2.7.6"
  }
 },
 "nbformat": 4,
 "nbformat_minor": 5
}
